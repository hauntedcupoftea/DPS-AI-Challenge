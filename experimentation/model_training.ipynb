{
 "cells": [
  {
   "cell_type": "markdown",
   "metadata": {},
   "source": [
    "# Model Training Notebook\n",
    "\n",
    "A simple notebook that is used to train the prophet model to perform inference and forecasting on this dataset."
   ]
  },
  {
   "cell_type": "code",
   "execution_count": 1,
   "metadata": {},
   "outputs": [
    {
     "name": "stderr",
     "output_type": "stream",
     "text": [
      "/home/tea/.cache/pypoetry/virtualenvs/dps-ai-challenge-1GO35zOW-py3.12/lib/python3.12/site-packages/tqdm/auto.py:21: TqdmWarning: IProgress not found. Please update jupyter and ipywidgets. See https://ipywidgets.readthedocs.io/en/stable/user_install.html\n",
      "  from .autonotebook import tqdm as notebook_tqdm\n",
      "Importing plotly failed. Interactive plots will not work.\n"
     ]
    }
   ],
   "source": [
    "import pandas as pd\n",
    "import numpy as np\n",
    "from prophet import Prophet\n",
    "from itertools import product\n",
    "from prophet.serialize import model_to_json\n",
    "from prophet.diagnostics import cross_validation, performance_metrics\n",
    "from sklearn.metrics import mean_absolute_error, root_mean_squared_error, r2_score"
   ]
  },
  {
   "cell_type": "code",
   "execution_count": 2,
   "metadata": {},
   "outputs": [
    {
     "data": {
      "text/html": [
       "<div>\n",
       "<style scoped>\n",
       "    .dataframe tbody tr th:only-of-type {\n",
       "        vertical-align: middle;\n",
       "    }\n",
       "\n",
       "    .dataframe tbody tr th {\n",
       "        vertical-align: top;\n",
       "    }\n",
       "\n",
       "    .dataframe thead th {\n",
       "        text-align: right;\n",
       "    }\n",
       "</style>\n",
       "<table border=\"1\" class=\"dataframe\">\n",
       "  <thead>\n",
       "    <tr style=\"text-align: right;\">\n",
       "      <th></th>\n",
       "      <th>MONATSZAHL</th>\n",
       "      <th>AUSPRAEGUNG</th>\n",
       "      <th>JAHR</th>\n",
       "      <th>MONAT</th>\n",
       "      <th>WERT</th>\n",
       "      <th>VORJAHRESWERT</th>\n",
       "      <th>VERAEND_VORMONAT_PROZENT</th>\n",
       "      <th>VERAEND_VORJAHRESMONAT_PROZENT</th>\n",
       "      <th>ZWOELF_MONATE_MITTELWERT</th>\n",
       "    </tr>\n",
       "  </thead>\n",
       "  <tbody>\n",
       "    <tr>\n",
       "      <th>0</th>\n",
       "      <td>Alkoholunfälle</td>\n",
       "      <td>insgesamt</td>\n",
       "      <td>2024</td>\n",
       "      <td>202401</td>\n",
       "      <td>NaN</td>\n",
       "      <td>NaN</td>\n",
       "      <td>NaN</td>\n",
       "      <td>NaN</td>\n",
       "      <td>NaN</td>\n",
       "    </tr>\n",
       "    <tr>\n",
       "      <th>1</th>\n",
       "      <td>Alkoholunfälle</td>\n",
       "      <td>insgesamt</td>\n",
       "      <td>2024</td>\n",
       "      <td>202402</td>\n",
       "      <td>NaN</td>\n",
       "      <td>NaN</td>\n",
       "      <td>NaN</td>\n",
       "      <td>NaN</td>\n",
       "      <td>NaN</td>\n",
       "    </tr>\n",
       "    <tr>\n",
       "      <th>2</th>\n",
       "      <td>Alkoholunfälle</td>\n",
       "      <td>insgesamt</td>\n",
       "      <td>2024</td>\n",
       "      <td>202403</td>\n",
       "      <td>NaN</td>\n",
       "      <td>NaN</td>\n",
       "      <td>NaN</td>\n",
       "      <td>NaN</td>\n",
       "      <td>NaN</td>\n",
       "    </tr>\n",
       "    <tr>\n",
       "      <th>3</th>\n",
       "      <td>Alkoholunfälle</td>\n",
       "      <td>insgesamt</td>\n",
       "      <td>2024</td>\n",
       "      <td>202404</td>\n",
       "      <td>NaN</td>\n",
       "      <td>NaN</td>\n",
       "      <td>NaN</td>\n",
       "      <td>NaN</td>\n",
       "      <td>NaN</td>\n",
       "    </tr>\n",
       "    <tr>\n",
       "      <th>4</th>\n",
       "      <td>Alkoholunfälle</td>\n",
       "      <td>insgesamt</td>\n",
       "      <td>2024</td>\n",
       "      <td>202405</td>\n",
       "      <td>NaN</td>\n",
       "      <td>NaN</td>\n",
       "      <td>NaN</td>\n",
       "      <td>NaN</td>\n",
       "      <td>NaN</td>\n",
       "    </tr>\n",
       "  </tbody>\n",
       "</table>\n",
       "</div>"
      ],
      "text/plain": [
       "       MONATSZAHL AUSPRAEGUNG  JAHR   MONAT  WERT  VORJAHRESWERT  \\\n",
       "0  Alkoholunfälle   insgesamt  2024  202401   NaN            NaN   \n",
       "1  Alkoholunfälle   insgesamt  2024  202402   NaN            NaN   \n",
       "2  Alkoholunfälle   insgesamt  2024  202403   NaN            NaN   \n",
       "3  Alkoholunfälle   insgesamt  2024  202404   NaN            NaN   \n",
       "4  Alkoholunfälle   insgesamt  2024  202405   NaN            NaN   \n",
       "\n",
       "   VERAEND_VORMONAT_PROZENT  VERAEND_VORJAHRESMONAT_PROZENT  \\\n",
       "0                       NaN                             NaN   \n",
       "1                       NaN                             NaN   \n",
       "2                       NaN                             NaN   \n",
       "3                       NaN                             NaN   \n",
       "4                       NaN                             NaN   \n",
       "\n",
       "   ZWOELF_MONATE_MITTELWERT  \n",
       "0                       NaN  \n",
       "1                       NaN  \n",
       "2                       NaN  \n",
       "3                       NaN  \n",
       "4                       NaN  "
      ]
     },
     "execution_count": 2,
     "metadata": {},
     "output_type": "execute_result"
    }
   ],
   "source": [
    "# load data\n",
    "DATA_DIR = '../data/monatszahlen2405_verkehrsunfaelle_export_31_05_24_r.csv'\n",
    "\n",
    "data = pd.read_csv(DATA_DIR)\n",
    "data.head()"
   ]
  },
  {
   "cell_type": "code",
   "execution_count": 3,
   "metadata": {},
   "outputs": [],
   "source": [
    "# preprocess data\n",
    "# helper function 1\n",
    "def convert_Monat_to_Months(value):\n",
    "    try:\n",
    "        int(value)\n",
    "        return value[-2:]\n",
    "    except ValueError:\n",
    "        return np.nan\n",
    "\n",
    "# main preprocess, replicating steps from the EDA file.\n",
    "def preprocess_data(df: pd.DataFrame) -> tuple[pd.DataFrame, pd.DataFrame]:\n",
    "    df = df.iloc[:, :5] # remove unneeded columns\n",
    "    df = df[(df['AUSPRAEGUNG'] == 'insgesamt') & (df['MONATSZAHL'] == 'Alkoholunfälle')] # filter data to challenge constraints\n",
    "    df['MONAT'] = df['MONAT'].apply(convert_Monat_to_Months) # filter months to create year-month pairs\n",
    "    df.dropna(inplace=True, axis=0)\n",
    "    df['TIMESTAMP'] = pd.to_datetime(df[\"JAHR\"].astype(str) + df[\"MONAT\"], format='%Y%m')\n",
    "    df = df.sort_values('TIMESTAMP')\n",
    "    train = df[df['JAHR'] <= 2020].reset_index(drop=True)[['TIMESTAMP', 'WERT']].rename({'TIMESTAMP': 'ds', 'WERT': 'y'}, axis='columns')\n",
    "    test = df[df['JAHR'] > 2020].reset_index(drop=True)[['TIMESTAMP', 'WERT']].rename({'TIMESTAMP': 'ds', 'WERT': 'y'}, axis='columns')\n",
    "    return (train, test)"
   ]
  },
  {
   "cell_type": "code",
   "execution_count": 4,
   "metadata": {},
   "outputs": [
    {
     "name": "stdout",
     "output_type": "stream",
     "text": [
      "\n",
      "Number of training samples: 252\n",
      "Number of testing samples: 24\n",
      "\n"
     ]
    }
   ],
   "source": [
    "# run preprocessing\n",
    "train_data, test_data = preprocess_data(data)\n",
    "\n",
    "print(f\"\"\"\n",
    "Number of training samples: {train_data.shape[0]}\n",
    "Number of testing samples: {test_data.shape[0]}\n",
    "\"\"\")"
   ]
  },
  {
   "cell_type": "code",
   "execution_count": 5,
   "metadata": {},
   "outputs": [
    {
     "data": {
      "text/html": [
       "<div>\n",
       "<style scoped>\n",
       "    .dataframe tbody tr th:only-of-type {\n",
       "        vertical-align: middle;\n",
       "    }\n",
       "\n",
       "    .dataframe tbody tr th {\n",
       "        vertical-align: top;\n",
       "    }\n",
       "\n",
       "    .dataframe thead th {\n",
       "        text-align: right;\n",
       "    }\n",
       "</style>\n",
       "<table border=\"1\" class=\"dataframe\">\n",
       "  <thead>\n",
       "    <tr style=\"text-align: right;\">\n",
       "      <th></th>\n",
       "      <th>ds</th>\n",
       "      <th>y</th>\n",
       "    </tr>\n",
       "  </thead>\n",
       "  <tbody>\n",
       "    <tr>\n",
       "      <th>0</th>\n",
       "      <td>2000-01-01</td>\n",
       "      <td>78.0</td>\n",
       "    </tr>\n",
       "    <tr>\n",
       "      <th>1</th>\n",
       "      <td>2000-02-01</td>\n",
       "      <td>53.0</td>\n",
       "    </tr>\n",
       "    <tr>\n",
       "      <th>2</th>\n",
       "      <td>2000-03-01</td>\n",
       "      <td>73.0</td>\n",
       "    </tr>\n",
       "    <tr>\n",
       "      <th>3</th>\n",
       "      <td>2000-04-01</td>\n",
       "      <td>78.0</td>\n",
       "    </tr>\n",
       "    <tr>\n",
       "      <th>4</th>\n",
       "      <td>2000-05-01</td>\n",
       "      <td>96.0</td>\n",
       "    </tr>\n",
       "  </tbody>\n",
       "</table>\n",
       "</div>"
      ],
      "text/plain": [
       "          ds     y\n",
       "0 2000-01-01  78.0\n",
       "1 2000-02-01  53.0\n",
       "2 2000-03-01  73.0\n",
       "3 2000-04-01  78.0\n",
       "4 2000-05-01  96.0"
      ]
     },
     "execution_count": 5,
     "metadata": {},
     "output_type": "execute_result"
    }
   ],
   "source": [
    "train_data.head()"
   ]
  },
  {
   "cell_type": "code",
   "execution_count": 6,
   "metadata": {},
   "outputs": [
    {
     "data": {
      "text/html": [
       "<div>\n",
       "<style scoped>\n",
       "    .dataframe tbody tr th:only-of-type {\n",
       "        vertical-align: middle;\n",
       "    }\n",
       "\n",
       "    .dataframe tbody tr th {\n",
       "        vertical-align: top;\n",
       "    }\n",
       "\n",
       "    .dataframe thead th {\n",
       "        text-align: right;\n",
       "    }\n",
       "</style>\n",
       "<table border=\"1\" class=\"dataframe\">\n",
       "  <thead>\n",
       "    <tr style=\"text-align: right;\">\n",
       "      <th></th>\n",
       "      <th>ds</th>\n",
       "      <th>y</th>\n",
       "    </tr>\n",
       "  </thead>\n",
       "  <tbody>\n",
       "    <tr>\n",
       "      <th>0</th>\n",
       "      <td>2021-01-01</td>\n",
       "      <td>16.0</td>\n",
       "    </tr>\n",
       "    <tr>\n",
       "      <th>1</th>\n",
       "      <td>2021-02-01</td>\n",
       "      <td>14.0</td>\n",
       "    </tr>\n",
       "    <tr>\n",
       "      <th>2</th>\n",
       "      <td>2021-03-01</td>\n",
       "      <td>24.0</td>\n",
       "    </tr>\n",
       "    <tr>\n",
       "      <th>3</th>\n",
       "      <td>2021-04-01</td>\n",
       "      <td>16.0</td>\n",
       "    </tr>\n",
       "    <tr>\n",
       "      <th>4</th>\n",
       "      <td>2021-05-01</td>\n",
       "      <td>24.0</td>\n",
       "    </tr>\n",
       "  </tbody>\n",
       "</table>\n",
       "</div>"
      ],
      "text/plain": [
       "          ds     y\n",
       "0 2021-01-01  16.0\n",
       "1 2021-02-01  14.0\n",
       "2 2021-03-01  24.0\n",
       "3 2021-04-01  16.0\n",
       "4 2021-05-01  24.0"
      ]
     },
     "execution_count": 6,
     "metadata": {},
     "output_type": "execute_result"
    }
   ],
   "source": [
    "test_data.head()"
   ]
  },
  {
   "cell_type": "code",
   "execution_count": null,
   "metadata": {},
   "outputs": [],
   "source": [
    "# Perform hyperparameter tuning using built-in prophet methods.\n",
    "# parameter grid\n",
    "param_grid = {\n",
    "    'growth': ['linear', 'flat'],\n",
    "    'changepoint_prior_scale': [0.01, 0.05, 0.1, 0.2, 0.5],\n",
    "    'seasonality_prior_scale': [1.0, 2.0, 5.0, 10.0, 20.0],\n",
    "    'seasonality_mode': ['additive', 'multiplicative'],\n",
    "    'yearly_seasonality': [True, False],\n",
    "    'weekly_seasonality': [True, False],\n",
    "}\n",
    "\n",
    "# generate all combinations of parameters\n",
    "all_params = [dict(zip(param_grid.keys(), v)) for v in product(*param_grid.values())]\n",
    "rmses = []\n",
    "\n",
    "print(f\"Iterating over {len(all_params)} sets of parameters...\")\n",
    "# use cross-validation to evaluate all parameters\n",
    "for params in all_params:\n",
    "    m = Prophet(**params).fit(train_data)\n",
    "    cv_dataframe = cross_validation(m, horizon='365 days', parallel=\"threads\")\n",
    "    results = performance_metrics(cv_dataframe, rolling_window=1)\n",
    "    rmses.append(results['rmse'].iloc[0])"
   ]
  },
  {
   "cell_type": "markdown",
   "metadata": {},
   "source": [
    "The output of the above cell was removed because it was too much spam."
   ]
  },
  {
   "cell_type": "code",
   "execution_count": 8,
   "metadata": {},
   "outputs": [
    {
     "data": {
      "text/plain": [
       "400"
      ]
     },
     "execution_count": 8,
     "metadata": {},
     "output_type": "execute_result"
    }
   ],
   "source": [
    "len(all_params)"
   ]
  },
  {
   "cell_type": "code",
   "execution_count": 9,
   "metadata": {},
   "outputs": [
    {
     "name": "stdout",
     "output_type": "stream",
     "text": [
      "Best parameters:\n",
      "growth                             linear\n",
      "changepoint_prior_scale               0.2\n",
      "seasonality_prior_scale               1.0\n",
      "seasonality_mode           multiplicative\n",
      "yearly_seasonality                   True\n",
      "weekly_seasonality                  False\n",
      "rmse                             8.705898\n",
      "Name: 125, dtype: object\n"
     ]
    },
    {
     "data": {
      "text/html": [
       "<div>\n",
       "<style scoped>\n",
       "    .dataframe tbody tr th:only-of-type {\n",
       "        vertical-align: middle;\n",
       "    }\n",
       "\n",
       "    .dataframe tbody tr th {\n",
       "        vertical-align: top;\n",
       "    }\n",
       "\n",
       "    .dataframe thead th {\n",
       "        text-align: right;\n",
       "    }\n",
       "</style>\n",
       "<table border=\"1\" class=\"dataframe\">\n",
       "  <thead>\n",
       "    <tr style=\"text-align: right;\">\n",
       "      <th></th>\n",
       "      <th>growth</th>\n",
       "      <th>changepoint_prior_scale</th>\n",
       "      <th>seasonality_prior_scale</th>\n",
       "      <th>seasonality_mode</th>\n",
       "      <th>yearly_seasonality</th>\n",
       "      <th>weekly_seasonality</th>\n",
       "      <th>rmse</th>\n",
       "    </tr>\n",
       "  </thead>\n",
       "  <tbody>\n",
       "    <tr>\n",
       "      <th>125</th>\n",
       "      <td>linear</td>\n",
       "      <td>0.2</td>\n",
       "      <td>1.0</td>\n",
       "      <td>multiplicative</td>\n",
       "      <td>True</td>\n",
       "      <td>False</td>\n",
       "      <td>8.705898</td>\n",
       "    </tr>\n",
       "    <tr>\n",
       "      <th>165</th>\n",
       "      <td>linear</td>\n",
       "      <td>0.5</td>\n",
       "      <td>1.0</td>\n",
       "      <td>multiplicative</td>\n",
       "      <td>True</td>\n",
       "      <td>False</td>\n",
       "      <td>8.729012</td>\n",
       "    </tr>\n",
       "    <tr>\n",
       "      <th>85</th>\n",
       "      <td>linear</td>\n",
       "      <td>0.1</td>\n",
       "      <td>1.0</td>\n",
       "      <td>multiplicative</td>\n",
       "      <td>True</td>\n",
       "      <td>False</td>\n",
       "      <td>8.734995</td>\n",
       "    </tr>\n",
       "    <tr>\n",
       "      <th>133</th>\n",
       "      <td>linear</td>\n",
       "      <td>0.2</td>\n",
       "      <td>2.0</td>\n",
       "      <td>multiplicative</td>\n",
       "      <td>True</td>\n",
       "      <td>False</td>\n",
       "      <td>8.860329</td>\n",
       "    </tr>\n",
       "    <tr>\n",
       "      <th>173</th>\n",
       "      <td>linear</td>\n",
       "      <td>0.5</td>\n",
       "      <td>2.0</td>\n",
       "      <td>multiplicative</td>\n",
       "      <td>True</td>\n",
       "      <td>False</td>\n",
       "      <td>8.861568</td>\n",
       "    </tr>\n",
       "  </tbody>\n",
       "</table>\n",
       "</div>"
      ],
      "text/plain": [
       "     growth  changepoint_prior_scale  seasonality_prior_scale  \\\n",
       "125  linear                      0.2                      1.0   \n",
       "165  linear                      0.5                      1.0   \n",
       "85   linear                      0.1                      1.0   \n",
       "133  linear                      0.2                      2.0   \n",
       "173  linear                      0.5                      2.0   \n",
       "\n",
       "    seasonality_mode  yearly_seasonality  weekly_seasonality      rmse  \n",
       "125   multiplicative                True               False  8.705898  \n",
       "165   multiplicative                True               False  8.729012  \n",
       "85    multiplicative                True               False  8.734995  \n",
       "133   multiplicative                True               False  8.860329  \n",
       "173   multiplicative                True               False  8.861568  "
      ]
     },
     "execution_count": 9,
     "metadata": {},
     "output_type": "execute_result"
    }
   ],
   "source": [
    "# Find the best parameters\n",
    "tuning_results = pd.DataFrame(all_params)\n",
    "tuning_results['rmse'] = rmses\n",
    "\n",
    "# Identify the best parameters\n",
    "best_params = tuning_results.loc[tuning_results['rmse'].idxmin()]\n",
    "print(f\"Best parameters:\\n{best_params}\")\n",
    "\n",
    "tuning_results.sort_values('rmse').head()"
   ]
  },
  {
   "cell_type": "code",
   "execution_count": 13,
   "metadata": {},
   "outputs": [
    {
     "name": "stderr",
     "output_type": "stream",
     "text": [
      "21:25:21 - cmdstanpy - INFO - Chain [1] start processing\n",
      "21:25:21 - cmdstanpy - INFO - Chain [1] done processing\n"
     ]
    },
    {
     "name": "stdout",
     "output_type": "stream",
     "text": [
      "\n",
      "Test Data Results\n",
      "Mean Absolute Error: 7.863451865241231,\n",
      "Root Mean Square Error: 9.552909667483597,\n",
      "R2 Score: 0.5537502048161292\n",
      "\n"
     ]
    }
   ],
   "source": [
    "# make a model that has the best performance out of all\n",
    "predictor = Prophet(**best_params.drop(['rmse', 'yearly_seasonality', 'weekly_seasonality'])).fit(train_data)\n",
    "y_hat = predictor.predict(test_data)['yhat']\n",
    "y = test_data['y']\n",
    "print(f\"\"\"\n",
    "Test Data Results\n",
    "Mean Absolute Error: {mean_absolute_error(y, y_hat)},\n",
    "Root Mean Square Error: {root_mean_squared_error(y, y_hat)},\n",
    "R2 Score: {r2_score(y, y_hat)}\n",
    "\"\"\")"
   ]
  },
  {
   "cell_type": "code",
   "execution_count": 14,
   "metadata": {},
   "outputs": [],
   "source": [
    "with open(\"../models/prophet-model.json\", \"w\") as fout:\n",
    "    fout.write(model_to_json(predictor))"
   ]
  },
  {
   "cell_type": "markdown",
   "metadata": {},
   "source": [
    "This model can be imported and used in the API"
   ]
  }
 ],
 "metadata": {
  "kernelspec": {
   "display_name": "dps-ai-challenge-1GO35zOW-py3.12",
   "language": "python",
   "name": "python3"
  },
  "language_info": {
   "codemirror_mode": {
    "name": "ipython",
    "version": 3
   },
   "file_extension": ".py",
   "mimetype": "text/x-python",
   "name": "python",
   "nbconvert_exporter": "python",
   "pygments_lexer": "ipython3",
   "version": "3.12.5"
  }
 },
 "nbformat": 4,
 "nbformat_minor": 2
}
